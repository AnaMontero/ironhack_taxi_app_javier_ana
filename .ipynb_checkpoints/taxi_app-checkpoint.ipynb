{
 "cells": [
  {
   "cell_type": "code",
   "execution_count": 1,
   "id": "834fd15a-fea5-469e-bb7f-9d4045034767",
   "metadata": {
    "jupyter": {
     "source_hidden": true
    }
   },
   "outputs": [
    {
     "name": "stdout",
     "output_type": "stream",
     "text": [
      "{1: {'name': 'Pep', 'phone': '123456789', 'total_trips': 1}, 2: {'name': 'Luisa', 'phone': '345354', 'total_trips': 3}}\n"
     ]
    }
   ],
   "source": [
    "taxi_drivers = {\n",
    "    1:{\n",
    "    \"name\": \"Pep\",\n",
    "    \"phone\": \"123456789\",\n",
    "    \"total_trips\": 1\n",
    "    },\n",
    "    2:{\n",
    "    \"name\": \"Luisa\",\n",
    "    \"phone\": \"345354\",\n",
    "    \"total_trips\": 3\n",
    "    }\n",
    "}\n",
    "\n",
    "print(taxi_drivers)\n"
   ]
  },
  {
   "cell_type": "code",
   "execution_count": 2,
   "id": "4fa50673-9e1d-42e8-b948-7d61f88667c9",
   "metadata": {},
   "outputs": [
    {
     "name": "stdout",
     "output_type": "stream",
     "text": [
      "{1: {'name': 'Pep', 'phone': '123456789', 'total_trips': 1}, 2: {'name': 'Luisa', 'phone': '345354', 'total_trips': 3}, 4: {'name': 'Javier', 'phone': '873499', 'total_trips': 4}}\n"
     ]
    }
   ],
   "source": [
    "def add_taxi_driver(driver_id, name, phone, total_trips):\n",
    "    if driver_id not in taxi_drivers:\n",
    "        taxi_drivers[driver_id] = {\"name\":name, \"phone\": phone, \"total_trips\": total_trips}\n",
    "    else:\n",
    "        print(f\"El conductor con id {driver_id} ya existe.\")\n",
    "\n",
    "add_taxi_driver(4, \"Javier\", \"873499\", 4)\n",
    "print(taxi_drivers)"
   ]
  },
  {
   "cell_type": "code",
   "execution_count": null,
   "id": "9909687a",
   "metadata": {},
   "outputs": [],
   "source": [
    "tralves = [\n",
    "  {\"travel_id\": 1, \"driver_id\": 1, \"customer\": \"Pedro Gómez\", \"distance\": 5.2, \"price\": 10.40},\n",
    "  {\"id_viaje\": 2, \"driver_id\": 2, \"customer\": \"Laura Núñez\", \"distance\": 3.0, \"price\": 6.00}\n",
    "]"
   ]
  }
 ],
 "metadata": {
  "kernelspec": {
   "display_name": "Python 3 (ipykernel)",
   "language": "python",
   "name": "python3"
  },
  "language_info": {
   "codemirror_mode": {
    "name": "ipython",
    "version": 3
   },
   "file_extension": ".py",
   "mimetype": "text/x-python",
   "name": "python",
   "nbconvert_exporter": "python",
   "pygments_lexer": "ipython3",
   "version": "3.11.3"
  }
 },
 "nbformat": 4,
 "nbformat_minor": 5
}
