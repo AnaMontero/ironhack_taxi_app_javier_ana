{
 "cells": [
  {
   "cell_type": "code",
   "execution_count": 1,
   "id": "834fd15a-fea5-469e-bb7f-9d4045034767",
   "metadata": {
    "jupyter": {
     "source_hidden": true
    }
   },
   "outputs": [
    {
     "name": "stdout",
     "output_type": "stream",
     "text": [
      "{1: {'name': 'Pep', 'phone': '123456789', 'total_trips': 1}, 2: {'name': 'Luisa', 'phone': '345354', 'total_trips': 3}}\n"
     ]
    }
   ],
   "source": [
    "taxi_drivers = {\n",
    "    1:{\n",
    "    \"name\": \"Pep\",\n",
    "    \"phone\": \"123456789\",\n",
    "    \"total_trips\": 1\n",
    "    },\n",
    "    2:{\n",
    "    \"name\": \"Luisa\",\n",
    "    \"phone\": \"345354\",\n",
    "    \"total_trips\": 3\n",
    "    }\n",
    "}\n",
    "\n",
    "print(taxi_drivers)\n"
   ]
  },
  {
   "cell_type": "code",
   "execution_count": 2,
   "id": "4fa50673-9e1d-42e8-b948-7d61f88667c9",
   "metadata": {},
   "outputs": [
    {
     "name": "stdout",
     "output_type": "stream",
     "text": [
      "{1: {'name': 'Pep', 'phone': '123456789', 'total_trips': 1}, 2: {'name': 'Luisa', 'phone': '345354', 'total_trips': 3}, 4: {'name': 'Javier', 'phone': '873499', 'total_trips': 4}}\n"
     ]
    }
   ],
   "source": [
    "def add_taxi_driver(driver_id, name, phone, total_trips):\n",
    "    if driver_id not in taxi_drivers:\n",
    "        taxi_drivers[driver_id] = {\"name\":name, \"phone\": phone, \"total_trips\": total_trips}\n",
    "    else:\n",
    "        print(f\"El conductor con id {driver_id} ya existe.\")\n",
    "\n",
    "add_taxi_driver(4, \"Javier\", \"873499\", 4)\n",
    "print(taxi_drivers)"
   ]
  },
  {
   "cell_type": "code",
   "execution_count": 7,
   "id": "a19750b8",
   "metadata": {},
   "outputs": [],
   "source": [
    "travels = [\n",
    "  {\"travel_id\": 1, \"driver_id\": 1, \"customer\": \"Pedro Gómez\", \"distance\": 5.2, \"price\": 10.40},\n",
    "  {\"travel_id\": 2, \"driver_id\": 2, \"customer\": \"Laura Núñez\", \"distance\": 3.0, \"price\": 6.00}\n",
    "]"
   ]
  },
  {
   "cell_type": "code",
   "execution_count": 19,
   "id": "59f5de1e",
   "metadata": {},
   "outputs": [],
   "source": [
    "def add_travel(travel_id, driver_id, customer, distance, price):\n",
    "    # Verificar si el ID del conductor existe en el diccionario de conductores\n",
    "    if driver_id not in taxi_drivers:\n",
    "        print(\"Error: El ID del conductor no existe.\")\n",
    "    else:\n",
    "        # Agregar el nuevo viaje a la lista de viajes\n",
    "        travels.append({\n",
    "            \"travel_id\": travel_id,\n",
    "            \"driver_id\": driver_id,\n",
    "            \"customer\": customer,\n",
    "            \"distance\": distance,\n",
    "            \"price\": price\n",
    "        })\n",
    "        # Incrementar el número total de viajes realizados por el conductor\n",
    "        taxi_drivers[driver_id][\"total_trips\"] += 1\n",
    "        print(\"Viaje agregado exitosamente.\")"
   ]
  },
  {
   "cell_type": "code",
   "execution_count": 24,
   "id": "64dd5a3d",
   "metadata": {},
   "outputs": [
    {
     "name": "stdout",
     "output_type": "stream",
     "text": [
      "Viaje agregado exitosamente.\n"
     ]
    }
   ],
   "source": [
    "add_travel(3, 1,\"Juan\", 5.5, 10.43)"
   ]
  },
  {
   "cell_type": "code",
   "execution_count": 25,
   "id": "8813c369",
   "metadata": {},
   "outputs": [
    {
     "name": "stdout",
     "output_type": "stream",
     "text": [
      "[{'travel_id': 1, 'driver_id': 1, 'customer': 'Pedro Gómez', 'distance': 5.2, 'price': 10.4}, {'travel_id': 2, 'driver_id': 2, 'customer': 'Laura Núñez', 'distance': 3.0, 'price': 6.0}, {'travel_id': 3, 'driver_id': 2, 'customer': 'Juan', 'distance': 5.5, 'price': 10.43}, {'travel_id': 3, 'driver_id': 2, 'customer': 'Juan', 'distance': 5.5, 'price': 10.43}, {'travel_id': 3, 'driver_id': 1, 'customer': 'Juan', 'distance': 5.5, 'price': 10.43}]\n"
     ]
    }
   ],
   "source": [
    "print(travels)"
   ]
  },
  {
   "cell_type": "code",
   "execution_count": 17,
   "id": "31725ebe",
   "metadata": {},
   "outputs": [
    {
     "name": "stdout",
     "output_type": "stream",
     "text": [
      "{1: {'name': 'Pep', 'phone': '123456789', 'total_trips': 1}, 2: {'name': 'Luisa', 'phone': '345354', 'total_trips': 4}, 4: {'name': 'Javier', 'phone': '873499', 'total_trips': 4}}\n"
     ]
    }
   ],
   "source": [
    "print(taxi_drivers)"
   ]
  },
  {
   "cell_type": "code",
   "execution_count": 22,
   "id": "07775e4d",
   "metadata": {},
   "outputs": [
    {
     "name": "stdout",
     "output_type": "stream",
     "text": [
      "{1: {'name': 'Pep', 'phone': '123456789', 'total_trips': 1}, 2: {'name': 'Luisa', 'phone': '345354', 'total_trips': 5}, 4: {'name': 'Javier', 'phone': '873499', 'total_trips': 4}}\n"
     ]
    }
   ],
   "source": [
    "print(taxi_drivers)"
   ]
  },
  {
   "cell_type": "code",
   "execution_count": null,
   "id": "c2a73ed1",
   "metadata": {},
   "outputs": [],
   "source": []
  }
 ],
 "metadata": {
  "kernelspec": {
   "display_name": "Python 3 (ipykernel)",
   "language": "python",
   "name": "python3"
  },
  "language_info": {
   "codemirror_mode": {
    "name": "ipython",
    "version": 3
   },
   "file_extension": ".py",
   "mimetype": "text/x-python",
   "name": "python",
   "nbconvert_exporter": "python",
   "pygments_lexer": "ipython3",
   "version": "3.11.3"
  }
 },
 "nbformat": 4,
 "nbformat_minor": 5
}
